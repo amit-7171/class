{
 "cells": [
  {
   "cell_type": "code",
   "execution_count": 1,
   "id": "0879cf25-44ab-4038-8f76-db6a815c4b05",
   "metadata": {},
   "outputs": [],
   "source": [
    "#object oriented programming"
   ]
  },
  {
   "cell_type": "code",
   "execution_count": 2,
   "id": "8386ee8b-5275-410e-957b-660a11b9df0b",
   "metadata": {},
   "outputs": [],
   "source": [
    "#class"
   ]
  },
  {
   "cell_type": "code",
   "execution_count": 5,
   "id": "33a08df7-c135-4bde-b7b8-58c19bcc0714",
   "metadata": {},
   "outputs": [],
   "source": [
    "class Car:\n",
    "    def __init__(self, brand, model, color, engine):\n",
    "        self.brand = brand\n",
    "        self.model = model\n",
    "        self.color = color\n",
    "        self.engine = engine\n",
    "    def start_car(self):\n",
    "        print(f\"{self.brand} {self.model} {self.color} {self.engine} started\")"
   ]
  },
  {
   "cell_type": "code",
   "execution_count": 6,
   "id": "6742d465-f3d0-486d-a330-dea71fb768d3",
   "metadata": {},
   "outputs": [],
   "source": [
    "c1 = Car(\"bmw\",\"2 series\", \"black\", \"m sport pro\")"
   ]
  },
  {
   "cell_type": "code",
   "execution_count": 7,
   "id": "55efc49e-3dbb-44e1-b4eb-b6115c5f888a",
   "metadata": {},
   "outputs": [
    {
     "name": "stdout",
     "output_type": "stream",
     "text": [
      "bmw 2 series black m sport pro started\n"
     ]
    }
   ],
   "source": [
    "c1.start_car()"
   ]
  },
  {
   "cell_type": "code",
   "execution_count": 8,
   "id": "b65a97e3-a08d-4ebf-8ec9-d9002294dcf0",
   "metadata": {},
   "outputs": [],
   "source": [
    "c2 = Car(\"audi\",\"a3\", \"black\", \"gt\")"
   ]
  },
  {
   "cell_type": "code",
   "execution_count": 9,
   "id": "64fd05b0-fcf7-4873-b3fa-677dd37f3f37",
   "metadata": {},
   "outputs": [
    {
     "name": "stdout",
     "output_type": "stream",
     "text": [
      "audi a3 black gt started\n"
     ]
    }
   ],
   "source": [
    "c2.start_car()"
   ]
  },
  {
   "cell_type": "code",
   "execution_count": 10,
   "id": "ba55cedb-3565-473d-903d-afd78a378c00",
   "metadata": {},
   "outputs": [
    {
     "data": {
      "text/plain": [
       "'class employee - empid, empname\\nmethod - display - name and id'"
      ]
     },
     "execution_count": 10,
     "metadata": {},
     "output_type": "execute_result"
    }
   ],
   "source": [
    "\"\"\"class employee - empid, empname\n",
    "method - display - name and id\"\"\""
   ]
  },
  {
   "cell_type": "code",
   "execution_count": 12,
   "id": "f57d3fc0-28f9-48f8-a7ea-30f24525d99c",
   "metadata": {},
   "outputs": [],
   "source": [
    "#Inheritance - parent class, child class"
   ]
  },
  {
   "cell_type": "code",
   "execution_count": 14,
   "id": "bd1c7125-2011-4707-a75c-58cee4fc4d95",
   "metadata": {},
   "outputs": [],
   "source": [
    "#class Parent:\n",
    "    #code of the parent class\n",
    "#class children(Parent):\n",
    "    #code of the children class inherited from parent"
   ]
  },
  {
   "cell_type": "code",
   "execution_count": 18,
   "id": "dc98faae-58ef-4f64-8bbb-ebe6d14414ee",
   "metadata": {},
   "outputs": [],
   "source": [
    "#types:\n",
    "#1. single inheritance - 1 cc inherited from 1 pc\n",
    "#2. multilevel inheritance - class b inherits class a, class c inherits b\n",
    "#3. multiple inheritance - one child class inherits from more than one parent\n",
    "#4. hierarchical inheritance - multiple child inherits from one parent\n",
    "#5. hybrid inheritance - combination of above types"
   ]
  },
  {
   "cell_type": "code",
   "execution_count": 19,
   "id": "8b7ebc4c-9ea8-476f-8edb-750243352fb2",
   "metadata": {},
   "outputs": [],
   "source": [
    "class vehicle:\n",
    "    def move(self):\n",
    "        print(\"vehicle moves\")\n",
    "\n",
    "class Car(vehicle):\n",
    "    def drive(self):\n",
    "        print(\"car is driving\")"
   ]
  },
  {
   "cell_type": "code",
   "execution_count": 20,
   "id": "3ad0bf51-8099-47a9-92d4-24b8c84b0cb0",
   "metadata": {},
   "outputs": [],
   "source": [
    "c = Car()\n",
    "v = vehicle()"
   ]
  },
  {
   "cell_type": "code",
   "execution_count": 21,
   "id": "49e41f17-e729-4939-9bf6-c5df3255a7bf",
   "metadata": {},
   "outputs": [
    {
     "name": "stdout",
     "output_type": "stream",
     "text": [
      "vehicle moves\n"
     ]
    }
   ],
   "source": [
    "v.move()"
   ]
  },
  {
   "cell_type": "code",
   "execution_count": 22,
   "id": "6944fc1a-b810-4d92-8491-33403c2bef7c",
   "metadata": {},
   "outputs": [
    {
     "name": "stdout",
     "output_type": "stream",
     "text": [
      "car is driving\n"
     ]
    }
   ],
   "source": [
    "c.drive()"
   ]
  },
  {
   "cell_type": "code",
   "execution_count": 23,
   "id": "7024917c-aff6-4c42-b847-bec1c944d496",
   "metadata": {},
   "outputs": [
    {
     "ename": "AttributeError",
     "evalue": "'vehicle' object has no attribute 'drive'",
     "output_type": "error",
     "traceback": [
      "\u001b[1;31m---------------------------------------------------------------------------\u001b[0m",
      "\u001b[1;31mAttributeError\u001b[0m                            Traceback (most recent call last)",
      "Cell \u001b[1;32mIn[23], line 1\u001b[0m\n\u001b[1;32m----> 1\u001b[0m v\u001b[38;5;241m.\u001b[39mdrive()\n",
      "\u001b[1;31mAttributeError\u001b[0m: 'vehicle' object has no attribute 'drive'"
     ]
    }
   ],
   "source": [
    "v.drive()"
   ]
  },
  {
   "cell_type": "code",
   "execution_count": 24,
   "id": "cd383fe0-b776-4dbb-b0f4-e0089b325359",
   "metadata": {},
   "outputs": [
    {
     "name": "stdout",
     "output_type": "stream",
     "text": [
      "vehicle moves\n"
     ]
    }
   ],
   "source": [
    "c.move()"
   ]
  },
  {
   "cell_type": "code",
   "execution_count": 25,
   "id": "c0b678e8-977e-47fe-8750-f7d9b21de6a1",
   "metadata": {},
   "outputs": [],
   "source": [
    "class GP:\n",
    "    def house(self):\n",
    "        print(\"gp's house\")\n",
    "\n",
    "class Parent(GP):\n",
    "    def car(self):\n",
    "        print(\"parent's car\")\n",
    "\n",
    "class child(Parent):\n",
    "    def bike(self):\n",
    "        print(\"child's bike\")"
   ]
  },
  {
   "cell_type": "code",
   "execution_count": 26,
   "id": "99e74377-fe4f-4aa9-bb64-bc5702e51340",
   "metadata": {},
   "outputs": [],
   "source": [
    "gp1 = GP()\n",
    "p1 = Parent()\n",
    "c1 = child()"
   ]
  },
  {
   "cell_type": "code",
   "execution_count": 27,
   "id": "86d3581f-d821-4cae-b546-2c0fa8cc983c",
   "metadata": {},
   "outputs": [
    {
     "name": "stdout",
     "output_type": "stream",
     "text": [
      "gp's house\n"
     ]
    }
   ],
   "source": [
    "gp1.house()"
   ]
  },
  {
   "cell_type": "code",
   "execution_count": 30,
   "id": "369ec62c-281a-444d-aacf-ee2ed7d6aff4",
   "metadata": {},
   "outputs": [
    {
     "name": "stdout",
     "output_type": "stream",
     "text": [
      "gp's house\n"
     ]
    }
   ],
   "source": [
    "p1.house()"
   ]
  },
  {
   "cell_type": "code",
   "execution_count": 31,
   "id": "05f11c23-69bf-48b4-9df4-aa873ef9dfc0",
   "metadata": {},
   "outputs": [
    {
     "name": "stdout",
     "output_type": "stream",
     "text": [
      "parent's car\n"
     ]
    }
   ],
   "source": [
    "p1.car()"
   ]
  },
  {
   "cell_type": "code",
   "execution_count": 33,
   "id": "2eb54935-d945-4a2c-ba84-11cae6cc31d9",
   "metadata": {},
   "outputs": [
    {
     "name": "stdout",
     "output_type": "stream",
     "text": [
      "gp's house\n"
     ]
    }
   ],
   "source": [
    "c1.house()"
   ]
  },
  {
   "cell_type": "code",
   "execution_count": 34,
   "id": "75b60102-1199-4fd0-991d-b67bcca816a8",
   "metadata": {},
   "outputs": [
    {
     "name": "stdout",
     "output_type": "stream",
     "text": [
      "parent's car\n"
     ]
    }
   ],
   "source": [
    "c1.car()"
   ]
  },
  {
   "cell_type": "code",
   "execution_count": 35,
   "id": "e59dadc0-2e82-406e-9177-8b9a8400e8a4",
   "metadata": {},
   "outputs": [
    {
     "name": "stdout",
     "output_type": "stream",
     "text": [
      "child's bike\n"
     ]
    }
   ],
   "source": [
    "c1.bike()"
   ]
  },
  {
   "cell_type": "code",
   "execution_count": 39,
   "id": "f75eb1ea-678f-4820-92f1-0136d49cdd05",
   "metadata": {},
   "outputs": [],
   "source": [
    "class father:\n",
    "    def skills(self):\n",
    "        print(\"business, gardening, driving\")\n",
    "\n",
    "class mother:\n",
    "    def skills2(self):\n",
    "        print(\"cooking\")\n",
    "\n",
    "class child(father, mother):\n",
    "    pass"
   ]
  },
  {
   "cell_type": "code",
   "execution_count": 40,
   "id": "3a6bb304-cb0c-4976-b445-14cbbda6ea31",
   "metadata": {},
   "outputs": [],
   "source": [
    "c = child()"
   ]
  },
  {
   "cell_type": "code",
   "execution_count": 42,
   "id": "08cdbcc4-3b5c-4a2b-b32b-4bc8388e43bd",
   "metadata": {},
   "outputs": [
    {
     "name": "stdout",
     "output_type": "stream",
     "text": [
      "cooking\n"
     ]
    }
   ],
   "source": [
    "c.skills2()"
   ]
  },
  {
   "cell_type": "code",
   "execution_count": 43,
   "id": "ff5d64b2-c713-43de-844d-2ca0889eb2b8",
   "metadata": {},
   "outputs": [],
   "source": [
    "class person:\n",
    "    def greet(self):\n",
    "        print(\"hello, i am a parent\")\n",
    "\n",
    "class sibling1(person):\n",
    "    def teach(self):\n",
    "        print(\"i teach maths\")\n",
    "\n",
    "class sibling2(person):\n",
    "    def teach2(self):\n",
    "        print(\"i teach ds\")"
   ]
  },
  {
   "cell_type": "code",
   "execution_count": 44,
   "id": "afc29be6-93f5-4f6e-ade0-eadcf3c4fd90",
   "metadata": {},
   "outputs": [],
   "source": [
    "p = person()\n",
    "s1 = sibling1()\n",
    "s2 = sibling2()"
   ]
  },
  {
   "cell_type": "code",
   "execution_count": 45,
   "id": "58ffd145-b111-49cc-93f1-357c814fd2e0",
   "metadata": {},
   "outputs": [
    {
     "name": "stdout",
     "output_type": "stream",
     "text": [
      "hello, i am a parent\n"
     ]
    }
   ],
   "source": [
    "p.greet()"
   ]
  },
  {
   "cell_type": "code",
   "execution_count": 51,
   "id": "ac509138-18cc-4e88-ab81-bed97680d5b2",
   "metadata": {},
   "outputs": [
    {
     "ename": "AttributeError",
     "evalue": "'sibling2' object has no attribute 'teach'",
     "output_type": "error",
     "traceback": [
      "\u001b[1;31m---------------------------------------------------------------------------\u001b[0m",
      "\u001b[1;31mAttributeError\u001b[0m                            Traceback (most recent call last)",
      "Cell \u001b[1;32mIn[51], line 1\u001b[0m\n\u001b[1;32m----> 1\u001b[0m s2\u001b[38;5;241m.\u001b[39mteach()\n",
      "\u001b[1;31mAttributeError\u001b[0m: 'sibling2' object has no attribute 'teach'"
     ]
    }
   ],
   "source": [
    "s2.teach()"
   ]
  },
  {
   "cell_type": "code",
   "execution_count": 52,
   "id": "8b02591c-2c59-4b3c-836e-521866bf584d",
   "metadata": {},
   "outputs": [],
   "source": [
    "#b,c - a\n",
    "#d - b,c"
   ]
  },
  {
   "cell_type": "code",
   "execution_count": 53,
   "id": "4c3f7556-7bb0-4fb1-8254-90ba297ca85f",
   "metadata": {},
   "outputs": [],
   "source": [
    "class a:\n",
    "    def f1(self):\n",
    "        print(\"class a\")\n",
    "\n",
    "class b(a):\n",
    "    def f2(self):\n",
    "        print(\"class b\")\n",
    "\n",
    "class c(a):\n",
    "    def f3(self):\n",
    "        print(\"class c\")\n",
    "\n",
    "class d(b,c):\n",
    "    def f4(self):\n",
    "        print(\"class d\")"
   ]
  },
  {
   "cell_type": "code",
   "execution_count": 54,
   "id": "68c4538f-5c27-4d11-9f4c-001fa5851742",
   "metadata": {},
   "outputs": [],
   "source": [
    "a1 = a()\n",
    "b1 = b()\n",
    "c1 = c()\n",
    "d1 = d()"
   ]
  },
  {
   "cell_type": "code",
   "execution_count": 56,
   "id": "d1b010cb-da82-438f-b752-22e8e7c458c9",
   "metadata": {},
   "outputs": [
    {
     "name": "stdout",
     "output_type": "stream",
     "text": [
      "class a\n"
     ]
    }
   ],
   "source": [
    "a1.f1()"
   ]
  },
  {
   "cell_type": "code",
   "execution_count": 58,
   "id": "ea47561a-a2d9-441a-b6d1-957c5b62f25c",
   "metadata": {},
   "outputs": [
    {
     "name": "stdout",
     "output_type": "stream",
     "text": [
      "class b\n"
     ]
    }
   ],
   "source": [
    "b1.f2()"
   ]
  },
  {
   "cell_type": "code",
   "execution_count": 60,
   "id": "7ce894b3-3193-4b5e-9d14-b4308f3366df",
   "metadata": {},
   "outputs": [
    {
     "name": "stdout",
     "output_type": "stream",
     "text": [
      "class c\n"
     ]
    }
   ],
   "source": [
    "c1.f3()"
   ]
  },
  {
   "cell_type": "code",
   "execution_count": 64,
   "id": "886005ba-62b0-4995-b40e-8abd1248febf",
   "metadata": {},
   "outputs": [
    {
     "name": "stdout",
     "output_type": "stream",
     "text": [
      "class d\n"
     ]
    }
   ],
   "source": [
    "d1.f4()"
   ]
  },
  {
   "cell_type": "code",
   "execution_count": 65,
   "id": "f5e8b454-b8ca-4127-a3c5-665469f63955",
   "metadata": {},
   "outputs": [],
   "source": [
    "#overriding"
   ]
  },
  {
   "cell_type": "code",
   "execution_count": 67,
   "id": "816c2872-c4e5-4051-ba11-60344d8a3aea",
   "metadata": {},
   "outputs": [],
   "source": [
    "class animal:\n",
    "    def speak(self):\n",
    "        print(\"animal speaks\")\n",
    "\n",
    "class cat(animal):\n",
    "    def speak(self):\n",
    "        print(\"cat meows\")"
   ]
  },
  {
   "cell_type": "code",
   "execution_count": 68,
   "id": "0142a804-cace-4ae7-9da7-37703950503b",
   "metadata": {},
   "outputs": [],
   "source": [
    "c = cat()"
   ]
  },
  {
   "cell_type": "code",
   "execution_count": 69,
   "id": "2172ce26-0ee8-4a9f-bdbc-c0a5c38119d0",
   "metadata": {},
   "outputs": [
    {
     "name": "stdout",
     "output_type": "stream",
     "text": [
      "cat meows\n"
     ]
    }
   ],
   "source": [
    "c.speak()"
   ]
  },
  {
   "cell_type": "code",
   "execution_count": 70,
   "id": "71034e7d-fef0-4fb3-881a-29c75676a833",
   "metadata": {},
   "outputs": [],
   "source": [
    "a = animal()"
   ]
  },
  {
   "cell_type": "code",
   "execution_count": 71,
   "id": "d86714b8-142c-433f-9b48-13b2a5687260",
   "metadata": {},
   "outputs": [
    {
     "name": "stdout",
     "output_type": "stream",
     "text": [
      "animal speaks\n"
     ]
    }
   ],
   "source": [
    "a.speak()"
   ]
  },
  {
   "cell_type": "code",
   "execution_count": 72,
   "id": "f3e2c4af-612c-47d8-8f06-cc221644409e",
   "metadata": {},
   "outputs": [],
   "source": [
    "#super function"
   ]
  },
  {
   "cell_type": "code",
   "execution_count": 73,
   "id": "4ff1b436-88fa-44c0-89a2-dbcb148d9876",
   "metadata": {},
   "outputs": [],
   "source": [
    "class person:\n",
    "    def __init__(self,name):\n",
    "        self.name = name\n",
    "\n",
    "class student(person):\n",
    "    def __init__(self, name, roll):\n",
    "        self.roll = roll\n",
    "        super().__init__(name)\n",
    "\n",
    "    def show(self):\n",
    "        print(f\"name: {self.name}, roll: {self.roll}\")"
   ]
  },
  {
   "cell_type": "code",
   "execution_count": 74,
   "id": "496e1825-2ea4-4d90-a1e0-8b7f0e000f05",
   "metadata": {},
   "outputs": [],
   "source": [
    "s = student(\"shubh\",105)"
   ]
  },
  {
   "cell_type": "code",
   "execution_count": 75,
   "id": "2453e6c7-f0b3-4ec4-91d6-887e50a83501",
   "metadata": {},
   "outputs": [
    {
     "name": "stdout",
     "output_type": "stream",
     "text": [
      "name: shubh, roll: 105\n"
     ]
    }
   ],
   "source": [
    "s.show()"
   ]
  },
  {
   "cell_type": "code",
   "execution_count": 76,
   "id": "5b6491be-9e65-4067-8ea6-4a44b6042536",
   "metadata": {},
   "outputs": [],
   "source": [
    "#encapsulation"
   ]
  },
  {
   "cell_type": "code",
   "execution_count": 77,
   "id": "d8e3ae94-9ed1-4fd0-bd0e-7f42f6af05f6",
   "metadata": {},
   "outputs": [],
   "source": [
    "#public - access it from anywhere - self.name\n",
    "#private - only within the class - self.__name\n",
    "#protected - within class and subclass - self._name"
   ]
  },
  {
   "cell_type": "code",
   "execution_count": 78,
   "id": "04ad39ef-4e7f-42ab-b88d-9cf44457b0cf",
   "metadata": {},
   "outputs": [],
   "source": [
    "class bankaccount:\n",
    "    def __init__(self, owner, balance):\n",
    "        self.owner = owner #public\n",
    "        self.__balance = balance #private\n",
    "\n",
    "    def deposit(self, amount):\n",
    "        if amount > 0:\n",
    "            self.__balance = self.__balance + amount\n",
    "\n",
    "    def withdraw(self, amount):\n",
    "        if amount <= self.__balance:\n",
    "            self.__balance = self.__balance - amount\n",
    "        else:\n",
    "            print(\"insufficient funds\")\n",
    "\n",
    "    def get_balance(self):\n",
    "        return self.__balance"
   ]
  },
  {
   "cell_type": "code",
   "execution_count": 79,
   "id": "24afee43-ee42-45f0-80ef-996f390609bd",
   "metadata": {},
   "outputs": [],
   "source": [
    "a1 = bankaccount(\"shubh\",10000000)"
   ]
  },
  {
   "cell_type": "code",
   "execution_count": 80,
   "id": "3d7d0d4a-c5e5-4d75-9b5f-d56a1178b243",
   "metadata": {},
   "outputs": [],
   "source": [
    "a1.deposit(10000000)"
   ]
  },
  {
   "cell_type": "code",
   "execution_count": 81,
   "id": "651d1136-0ad0-44f8-af8e-0c55a3d2dbe5",
   "metadata": {},
   "outputs": [],
   "source": [
    "a1.withdraw(1000000)"
   ]
  },
  {
   "cell_type": "code",
   "execution_count": 82,
   "id": "3af81314-d15c-4221-b9f3-a129a910e341",
   "metadata": {},
   "outputs": [
    {
     "name": "stdout",
     "output_type": "stream",
     "text": [
      "19000000\n"
     ]
    }
   ],
   "source": [
    "print(a1.get_balance())"
   ]
  },
  {
   "cell_type": "code",
   "execution_count": 83,
   "id": "14f7a6c1-9752-4463-a0ac-78bd64f5d0d5",
   "metadata": {},
   "outputs": [
    {
     "name": "stdout",
     "output_type": "stream",
     "text": [
      "shubh\n"
     ]
    }
   ],
   "source": [
    "print(a1.owner)"
   ]
  },
  {
   "cell_type": "code",
   "execution_count": 84,
   "id": "c6dd0af8-978b-44bb-ae4e-fce962d9390c",
   "metadata": {},
   "outputs": [
    {
     "ename": "AttributeError",
     "evalue": "'bankaccount' object has no attribute '__balance'",
     "output_type": "error",
     "traceback": [
      "\u001b[1;31m---------------------------------------------------------------------------\u001b[0m",
      "\u001b[1;31mAttributeError\u001b[0m                            Traceback (most recent call last)",
      "Cell \u001b[1;32mIn[84], line 1\u001b[0m\n\u001b[1;32m----> 1\u001b[0m \u001b[38;5;28mprint\u001b[39m(a1\u001b[38;5;241m.\u001b[39m__balance)\n",
      "\u001b[1;31mAttributeError\u001b[0m: 'bankaccount' object has no attribute '__balance'"
     ]
    }
   ],
   "source": [
    "print(a1.__balance)"
   ]
  },
  {
   "cell_type": "code",
   "execution_count": 85,
   "id": "a669a539-7d0f-4e51-b9aa-ec2e1c83fbc7",
   "metadata": {},
   "outputs": [
    {
     "name": "stdout",
     "output_type": "stream",
     "text": [
      "19000000\n"
     ]
    }
   ],
   "source": [
    "print(a1._bankaccount__balance)"
   ]
  },
  {
   "cell_type": "code",
   "execution_count": 93,
   "id": "469504e0-f3f4-4592-aca2-f89e8a439ec9",
   "metadata": {},
   "outputs": [],
   "source": [
    "class emp:\n",
    "    def __init__(self, salary):\n",
    "        self.__salary = salary\n",
    "\n",
    "    def get_salary(self):\n",
    "        return self.__salary\n",
    "\n",
    "    def set_salary(self, amount):\n",
    "        if amount > 0:\n",
    "            self.__salary = amount\n",
    "        else:\n",
    "            print(\"invalid\")"
   ]
  },
  {
   "cell_type": "code",
   "execution_count": 94,
   "id": "60424c36-49d1-4f24-b169-64fce6c03216",
   "metadata": {},
   "outputs": [],
   "source": [
    "e = emp(10000000)"
   ]
  },
  {
   "cell_type": "code",
   "execution_count": 95,
   "id": "0df51231-8a19-4f19-a40a-1a0b671652b0",
   "metadata": {},
   "outputs": [
    {
     "name": "stdout",
     "output_type": "stream",
     "text": [
      "10000000\n"
     ]
    }
   ],
   "source": [
    "print(e.get_salary())"
   ]
  },
  {
   "cell_type": "code",
   "execution_count": 96,
   "id": "a730a23a-c0c8-4ee9-9cf6-4f9a63887f34",
   "metadata": {},
   "outputs": [],
   "source": [
    "e.set_salary(20000000)"
   ]
  },
  {
   "cell_type": "code",
   "execution_count": 97,
   "id": "04baa4d6-52de-4267-97e5-db1555c22d6b",
   "metadata": {},
   "outputs": [
    {
     "name": "stdout",
     "output_type": "stream",
     "text": [
      "20000000\n"
     ]
    }
   ],
   "source": [
    "print(e.get_salary())"
   ]
  },
  {
   "cell_type": "code",
   "execution_count": 98,
   "id": "c86684a3-50ab-4ad1-a5ac-089b1c6c6f56",
   "metadata": {},
   "outputs": [],
   "source": [
    "#abstraction"
   ]
  },
  {
   "cell_type": "code",
   "execution_count": 99,
   "id": "8f7f99fa-d626-4b8e-ab0c-f75d52aed873",
   "metadata": {},
   "outputs": [],
   "source": [
    "from abc import ABC, abstractmethod"
   ]
  },
  {
   "cell_type": "code",
   "execution_count": 100,
   "id": "c20005f9-fad5-4957-901e-8feb48bd8a39",
   "metadata": {},
   "outputs": [],
   "source": [
    "class animal(ABC):\n",
    "    @abstractmethod\n",
    "    def sound(self):\n",
    "        pass\n",
    "\n",
    "class dog(animal):\n",
    "    def sound(self):\n",
    "        print(\"dog barks\")\n",
    "\n",
    "class cat(animal):\n",
    "    def sound(self):\n",
    "        print(\"cat meows\")"
   ]
  },
  {
   "cell_type": "code",
   "execution_count": 102,
   "id": "258233c5-4ca4-4382-b3e3-fbbf7da4bcf1",
   "metadata": {},
   "outputs": [
    {
     "ename": "TypeError",
     "evalue": "Can't instantiate abstract class animal without an implementation for abstract method 'sound'",
     "output_type": "error",
     "traceback": [
      "\u001b[1;31m---------------------------------------------------------------------------\u001b[0m",
      "\u001b[1;31mTypeError\u001b[0m                                 Traceback (most recent call last)",
      "Cell \u001b[1;32mIn[102], line 1\u001b[0m\n\u001b[1;32m----> 1\u001b[0m a \u001b[38;5;241m=\u001b[39m animal()\n",
      "\u001b[1;31mTypeError\u001b[0m: Can't instantiate abstract class animal without an implementation for abstract method 'sound'"
     ]
    }
   ],
   "source": [
    "a = animal()"
   ]
  },
  {
   "cell_type": "code",
   "execution_count": 103,
   "id": "e38b7029-8919-401e-bb13-9e6f844cd94b",
   "metadata": {},
   "outputs": [],
   "source": [
    "d = dog()"
   ]
  },
  {
   "cell_type": "code",
   "execution_count": 104,
   "id": "e6b45e94-9d3f-41ed-a6c4-6d21723f1dfc",
   "metadata": {},
   "outputs": [
    {
     "name": "stdout",
     "output_type": "stream",
     "text": [
      "dog barks\n"
     ]
    }
   ],
   "source": [
    "d.sound()"
   ]
  },
  {
   "cell_type": "code",
   "execution_count": 105,
   "id": "39a9055b-bdc8-496f-bfe8-8c36e046a835",
   "metadata": {},
   "outputs": [
    {
     "name": "stdout",
     "output_type": "stream",
     "text": [
      "cat meows\n"
     ]
    }
   ],
   "source": [
    "c = cat()\n",
    "c.sound()"
   ]
  },
  {
   "cell_type": "code",
   "execution_count": null,
   "id": "e35d0e09-44ea-4fe9-b001-231dba922c05",
   "metadata": {},
   "outputs": [],
   "source": []
  }
 ],
 "metadata": {
  "kernelspec": {
   "display_name": "Python 3",
   "language": "python",
   "name": "python3"
  },
  "language_info": {
   "codemirror_mode": {
    "name": "ipython",
    "version": 3
   },
   "file_extension": ".py",
   "mimetype": "text/x-python",
   "name": "python",
   "nbconvert_exporter": "python",
   "pygments_lexer": "ipython3",
   "version": "3.13.5"
  }
 },
 "nbformat": 4,
 "nbformat_minor": 5
}
